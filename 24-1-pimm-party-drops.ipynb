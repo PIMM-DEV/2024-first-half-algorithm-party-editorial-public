{
  "cells": [
    {
      "cell_type": "markdown",
      "metadata": {
        "id": "Poq3CUJg_TKP"
      },
      "source": [
        "# 2024 상반기 전남대학교 PIMM 알고리즘 파티 대회: 추첨상 추첨 결과"
      ]
    },
    {
      "cell_type": "code",
      "execution_count": 1,
      "metadata": {
        "id": "oO3zaI9t_Cyx"
      },
      "outputs": [],
      "source": [
        "results = [[\"dabbler1\", 8], [\"angello10\", 8], [\"golazcc83\", 8], [\"luciaholic\", 8], [\"kyo20111\", 7], [\"playsworld16\", 7], [\"edwardblue\", 7], [\"fermion5\", 7], [\"hyperion1019\", 7], [\"books1234\", 6], [\"sjhi00\", 6], [\"wizardrabbit\", 6], [\"snrnsidy\", 6], [\"pangitwise\", 6], [\"w8385\", 6], [\"easteregg423\", 6], [\"psiiiy\", 6], [\"ychangseok\", 5], [\"jyheo98\", 5], [\"scc9811\", 5], [\"cmgjol010\", 5], [\"kimsd1983\", 5], [\"mbae059\", 5], [\"jengdeuk\", 5], [\"rejo\", 5], [\"junhyung9985\", 5], [\"speciling\", 5], [\"hwcho98\", 5], [\"hyperbolic\", 4], [\"oldos\", 4], [\"zanmulgyeol\", 4], [\"kdg870918\", 4], [\"nflight11\", 4], [\"kkkkkkkkfkfk\", 4], [\"dk10211\", 4], [\"kimbh0412\", 4], [\"rwvrwvrwv\", 4], [\"iamgamja\", 4], [\"cubic\", 4], [\"patata22\", 4], [\"alswnssl0528\", 4], [\"seawon0808\", 4], [\"edward3378\", 4], [\"aibf0815\", 4], [\"dohyonne\", 4], [\"qwerty_po\", 4], [\"gihwan319\", 4], [\"rlatndhrlatndh\", 4], [\"qkrrudtn23\", 4], [\"wwad\", 4], [\"isekaijoucho\", 4], [\"soh2254\", 4], [\"sapple\", 4], [\"hoonably\", 4], [\"aru0504\", 4], [\"zmxncbv777\", 4], [\"unta\", 4], [\"mj1000j\", 3], [\"teferi00\", 3], [\"bnb2011\", 3], [\"falsetru\", 3], [\"m4ushold\", 3], [\"kangkunma\", 3], [\"iansong\", 3], [\"BothEarRim\", 3], [\"sws1870\", 3], [\"jeongiun\", 3], [\"publicminsu\", 3], [\"mulebanga\", 3], [\"kkgojn\", 3], [\"jyh071116\", 3], [\"31n5ang\", 3], [\"ymjoo12\", 3], [\"harnel_tngn\", 2], [\"intdouble\", 2], [\"starcea\", 2], [\"mgin0527\", 2], [\"ddungsam\", 2], [\"hicience\", 2], [\"spotky1004\", 2], [\"sksms1375\", 2], [\"kangsm02\", 2], [\"harry369\", 2], [\"kangjj17\", 2], [\"index\", 2], [\"wapas\", 2], [\"plan_pt\", 2], [\"riroan\", 2], [\"john0513\", 2], [\"yup0927\", 2], [\"jlib245\", 2], [\"bic0893\", 2], [\"mingmingmon\", 2], [\"basisp\", 2], [\"tjdrj530\", 2], [\"pjshwa\", 2], [\"dogfootone\", 2], [\"ljh20071005\", 2], [\"da9dac\", 2], [\"infe\", 2], [\"hohoherb\", 2], [\"jaesang00\", 2], [\"hjroh0315\", 2], [\"areian13\", 2], [\"ian0704\", 2], [\"nanowater\", 2], [\"jwavascript\", 2], [\"ajang36\", 2], [\"djeleanor2\", 2], [\"whatisthat\", 2], [\"pauljjang410\", 2], [\"asdf2131\", 2], [\"yoon2021\", 2], [\"cbkpar\", 2], [\"j1s8\", 2], [\"alsduddml7\", 2], [\"dodobow\", 2], [\"dongwook7\", 2], [\"rnjs123409\", 2], [\"ambitiouskyle\", 2], [\"dkim110807\", 2], [\"moralbook\", 2], [\"ingyu1008\", 2], [\"wnsrb933\", 2], [\"mugamta\", 2], [\"ray876\", 2], [\"tapris\", 2], [\"rrkcl77\", 2], [\"rla777\", 2], [\"cliant\", 2], [\"halin\", 2], [\"ios\", 2], [\"leedongbin\", 2], [\"platformer456\", 2], [\"edohyun0316\", 2], [\"rktdnjs\", 2], [\"jlee0708\", 2], [\"fogvhdooz\", 2], [\"jychun\", 2], [\"hopedream\", 2], [\"jshyun912\", 2], [\"chrisnpeace\", 2], [\"sehun8187\", 2], [\"shs0911\", 2], [\"dlbae9613\", 2], [\"paull04\", 2], [\"bomul1128\", 2], [\"gggkik\", 2], [\"mymasterpark2\", 2], [\"ferf99\", 2], [\"gyeol0710\", 2], [\"eoehd1ek\", 2], [\"annieho\", 2], [\"lsj5657\", 2], [\"bu_gye_jeong\", 2], [\"eric2057\", 2], [\"arimqee\", 2], [\"jeri_mm\", 2], [\"hsh8086\", 2], [\"minggyul\", 2], [\"jihwan_0319\", 2], [\"mastershim\", 2], [\"kscience17\", 1], [\"pkj001\", 1], [\"cjwthebest\", 1], [\"uno950114\", 1], [\"yje502\", 1], [\"tonystar0420\", 1], [\"qkrgusthf04\", 1], [\"kes0716\", 1], [\"k550706\", 1], [\"wlgns1718\", 1], [\"chim712\", 1], [\"wocks1626\", 1], [\"holljjak2000\", 1], [\"jjang0417\", 1], [\"wldus255\", 1], [\"ges009\", 1], [\"pani\", 1], [\"sbeen0109\", 1], [\"killpig2000\", 1], [\"cotjs0321\", 1], [\"sunnydays15\", 1], [\"collen7873\", 0], [\"jeenii22\", 0], [\"godminjae08\", 0]]"
      ]
    },
    {
      "cell_type": "code",
      "execution_count": 2,
      "metadata": {
        "id": "vyBHqPca_RKl"
      },
      "outputs": [],
      "source": [
        "from random import choices\n",
        "\n",
        "total = []\n",
        "\n",
        "def invoke(k: int=10) -> str:\n",
        "  arr = []\n",
        "  for _i in range(k):\n",
        "    while True:\n",
        "      each = choices(\n",
        "        [*map(lambda each: each[0], results)],\n",
        "        [*map(lambda each: each[1] ** 2, results)],\n",
        "      )[0]\n",
        "      if each not in total:\n",
        "        arr.append(each)\n",
        "        total.append(each)\n",
        "        break\n",
        "  return ', '.join(arr)"
      ]
    },
    {
      "cell_type": "markdown",
      "metadata": {
        "id": "PDrZNcvqAn5J"
      },
      "source": [
        "## 스타벅스 아이스 카페 아메리카노 T"
      ]
    },
    {
      "cell_type": "code",
      "execution_count": 3,
      "metadata": {
        "colab": {
          "base_uri": "https://localhost:8080/",
          "height": 36
        },
        "id": "KZQsSGJ8AmtX",
        "outputId": "42155b5e-7b11-4c8a-fa0b-cee51ce56135"
      },
      "outputs": [
        {
          "output_type": "execute_result",
          "data": {
            "text/plain": [
              "'cubic, hwcho98, falsetru, playsworld16, kkgojn, riroan, zmxncbv777, edwardblue, ychangseok, fermion5'"
            ],
            "application/vnd.google.colaboratory.intrinsic+json": {
              "type": "string"
            }
          },
          "metadata": {},
          "execution_count": 3
        }
      ],
      "source": [
        "invoke()"
      ]
    },
    {
      "cell_type": "markdown",
      "metadata": {
        "id": "ZSSA9JO1AtuV"
      },
      "source": [
        "## 메가커피 아이스 아메리카노"
      ]
    },
    {
      "cell_type": "code",
      "execution_count": 4,
      "metadata": {
        "colab": {
          "base_uri": "https://localhost:8080/",
          "height": 36
        },
        "id": "EmjkbevBAs1a",
        "outputId": "5c6fe6ee-f143-4044-bd7f-b2b16820fb13"
      },
      "outputs": [
        {
          "output_type": "execute_result",
          "data": {
            "text/plain": [
              "'spotky1004, oldos, hjroh0315, rwvrwvrwv, iamgamja, scc9811, sapple, kyo20111, luciaholic, w8385'"
            ],
            "application/vnd.google.colaboratory.intrinsic+json": {
              "type": "string"
            }
          },
          "metadata": {},
          "execution_count": 4
        }
      ],
      "source": [
        "invoke()"
      ]
    },
    {
      "cell_type": "markdown",
      "metadata": {
        "id": "2fu70U27Aycb"
      },
      "source": [
        "## 베스킨라빈스 싱글레귤러"
      ]
    },
    {
      "cell_type": "code",
      "execution_count": 5,
      "metadata": {
        "colab": {
          "base_uri": "https://localhost:8080/",
          "height": 36
        },
        "id": "D8klZfBCAxrY",
        "outputId": "456c470b-417a-4acf-85f9-e6f02199c8b7"
      },
      "outputs": [
        {
          "output_type": "execute_result",
          "data": {
            "text/plain": [
              "'jengdeuk, ljh20071005, rejo, jwavascript, golazcc83, speciling, books1234, isekaijoucho, wizardrabbit, dk10211'"
            ],
            "application/vnd.google.colaboratory.intrinsic+json": {
              "type": "string"
            }
          },
          "metadata": {},
          "execution_count": 5
        }
      ],
      "source": [
        "invoke()"
      ]
    }
  ],
  "metadata": {
    "colab": {
      "provenance": []
    },
    "kernelspec": {
      "display_name": "Python 3",
      "name": "python3"
    },
    "language_info": {
      "name": "python"
    }
  },
  "nbformat": 4,
  "nbformat_minor": 0
}